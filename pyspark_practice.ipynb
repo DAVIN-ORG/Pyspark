{
 "cells": [
  {
   "cell_type": "code",
   "execution_count": 1,
   "source": [
    "import findspark\r\n",
    "findspark.init()\r\n",
    "\r\n",
    "import pyspark # only run after findspark.init()\r\n",
    "from pyspark.sql import SparkSession\r\n",
    "spark = SparkSession.builder.getOrCreate()\r\n"
   ],
   "outputs": [],
   "metadata": {}
  },
  {
   "cell_type": "code",
   "execution_count": 2,
   "source": [
    "df = spark.sql('''select 'spark' as hello ''')\r\n",
    "df.show()"
   ],
   "outputs": [
    {
     "output_type": "stream",
     "name": "stdout",
     "text": [
      "+-----+\n",
      "|hello|\n",
      "+-----+\n",
      "|spark|\n",
      "+-----+\n",
      "\n"
     ]
    }
   ],
   "metadata": {}
  },
  {
   "cell_type": "markdown",
   "source": [
    "General transformations \r\n",
    "•map\r\n",
    "•filter\r\n",
    "•flatMap\r\n",
    "•mapPartitions\r\n",
    "•mapPartitionsWithIndex\r\n",
    "•groupBy\r\n",
    "•sortBy"
   ],
   "metadata": {}
  },
  {
   "cell_type": "markdown",
   "source": [],
   "metadata": {}
  }
 ],
 "metadata": {
  "kernelspec": {
   "name": "python3",
   "display_name": "Python 3.7.11 64-bit ('base': conda)"
  },
  "language_info": {
   "codemirror_mode": {
    "name": "ipython",
    "version": 3
   },
   "file_extension": ".py",
   "mimetype": "text/x-python",
   "name": "python",
   "nbconvert_exporter": "python",
   "pygments_lexer": "ipython3",
   "version": "3.7.11"
  },
  "interpreter": {
   "hash": "685389dbba71378c05f756ee6145bdaab941867c1ea9214c44eeb9ca25174a3e"
  }
 },
 "nbformat": 4,
 "nbformat_minor": 5
}